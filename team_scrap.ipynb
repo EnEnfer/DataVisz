{
 "cells": [
  {
   "cell_type": "code",
   "execution_count": 5,
   "metadata": {},
   "outputs": [],
   "source": [
    "import os\n",
    "import time\n",
    "\n",
    "from bs4 import BeautifulSoup\n",
    "from selenium import webdriver\n",
    "from selenium.common.exceptions import TimeoutException\n",
    "from selenium.webdriver.common.by import By\n",
    "from selenium.webdriver.support.ui import WebDriverWait\n",
    "from selenium.webdriver.support import expected_conditions as EC\n"
   ]
  },
  {
   "cell_type": "code",
   "execution_count": 6,
   "metadata": {},
   "outputs": [],
   "source": [
    "SEASONS = list(range(2021,2024))\n",
    "DATA_DIR = \"data\"\n",
    "STANDINGS_DIR = os.path.join(DATA_DIR, \"standings\")\n",
    "SCORES_DIR = os.path.join(DATA_DIR, \"scores\")"
   ]
  },
  {
   "cell_type": "code",
   "execution_count": 7,
   "metadata": {},
   "outputs": [
    {
     "data": {
      "text/plain": [
       "[2021, 2022, 2023]"
      ]
     },
     "execution_count": 7,
     "metadata": {},
     "output_type": "execute_result"
    }
   ],
   "source": [
    "SEASONS"
   ]
  },
  {
   "cell_type": "code",
   "execution_count": 14,
   "metadata": {},
   "outputs": [],
   "source": [
    "async def get_html(url, selector, sleep=5, retries=3):\n",
    "    html = None\n",
    "    for i in range(1, retries + 1):\n",
    "        time.sleep(sleep * i)\n",
    "        try:\n",
    "            driver = webdriver.Chrome()\n",
    "            driver.get(url)\n",
    "            WebDriverWait(driver, 10).until(EC.presence_of_element_located((By.CSS_SELECTOR, selector)))\n",
    "            print(driver.title)\n",
    "            html = driver.page_source\n",
    "        except TimeoutException:\n",
    "            print(f\"Timeout error on {url}\")\n",
    "            continue\n",
    "        else:\n",
    "            driver.quit()\n",
    "            break\n",
    "    return html"
   ]
  },
  {
   "cell_type": "code",
   "execution_count": 15,
   "metadata": {},
   "outputs": [],
   "source": [
    "async def scrape_season(season):\n",
    "    url = f\"https://www.basketball-reference.com/leagues/NBA_{season}_games.html\"\n",
    "    html = await get_html(url, \"#content .filter\")\n",
    "\n",
    "    soup = BeautifulSoup(html, \"html.parser\")\n",
    "    filter = soup.find(\"div\", {\"class\": \"filter\"})\n",
    "    links = filter.find_all(\"a\")\n",
    "    href = [l.get('href') for l in links]\n",
    "    standings_pages = [f\"https://www.basketball-reference.com{l}\" for l in href]\n",
    "\n",
    "\n",
    "    for url in standings_pages:\n",
    "        save_path = os.path.join(STANDINGS_DIR, url.split(\"/\")[-1])\n",
    "        if os.path.exists(save_path):\n",
    "            continue\n",
    "\n",
    "        html = await get_html(url, \"#all_schedule\")\n",
    "        with open(save_path, \"w+\", encoding=\"utf-8\") as f:\n",
    "            f.write(html)"
   ]
  },
  {
   "cell_type": "code",
   "execution_count": 16,
   "metadata": {},
   "outputs": [
    {
     "name": "stdout",
     "output_type": "stream",
     "text": [
      "2015-16 NBA Schedule | Basketball-Reference.com\n",
      "2016-17 NBA Schedule | Basketball-Reference.com\n",
      "2017-18 NBA Schedule | Basketball-Reference.com\n",
      "2018-19 NBA Schedule | Basketball-Reference.com\n"
     ]
    },
    {
     "name": "stderr",
     "output_type": "stream",
     "text": [
      "c:\\Users\\huyda\\AppData\\Local\\Programs\\Python\\Python310\\lib\\site-packages\\bs4\\__init__.py:612: RuntimeWarning: coroutine 'get_html' was never awaited\n",
      "  o.setup(parent, previous_element, next_element, previous_sibling, next_sibling)\n",
      "RuntimeWarning: Enable tracemalloc to get the object allocation traceback\n"
     ]
    },
    {
     "name": "stdout",
     "output_type": "stream",
     "text": [
      "2019-20 NBA Schedule | Basketball-Reference.com\n",
      "2020-21 NBA Schedule | Basketball-Reference.com\n",
      "2021-22 NBA Schedule | Basketball-Reference.com\n",
      "2022-23 NBA Schedule | Basketball-Reference.com\n",
      "2022-23 NBA Schedule | Basketball-Reference.com\n",
      "2022-23 NBA Schedule | Basketball-Reference.com\n",
      "2022-23 NBA Schedule | Basketball-Reference.com\n",
      "2022-23 NBA Schedule | Basketball-Reference.com\n",
      "2022-23 NBA Schedule | Basketball-Reference.com\n",
      "2022-23 NBA Schedule | Basketball-Reference.com\n"
     ]
    }
   ],
   "source": [
    "for season in SEASONS:\n",
    "    await scrape_season(season)"
   ]
  },
  {
   "cell_type": "code",
   "execution_count": 17,
   "metadata": {},
   "outputs": [],
   "source": [
    "standings_files = os.listdir(STANDINGS_DIR)"
   ]
  },
  {
   "cell_type": "code",
   "execution_count": 18,
   "metadata": {},
   "outputs": [
    {
     "data": {
      "text/plain": [
       "['NBA_2016_games-april.html',\n",
       " 'NBA_2016_games-december.html',\n",
       " 'NBA_2016_games-february.html',\n",
       " 'NBA_2016_games-january.html',\n",
       " 'NBA_2016_games-june.html',\n",
       " 'NBA_2016_games-march.html',\n",
       " 'NBA_2016_games-may.html',\n",
       " 'NBA_2016_games-november.html',\n",
       " 'NBA_2016_games-october.html',\n",
       " 'NBA_2017_games-april.html',\n",
       " 'NBA_2017_games-december.html',\n",
       " 'NBA_2017_games-february.html',\n",
       " 'NBA_2017_games-january.html',\n",
       " 'NBA_2017_games-june.html',\n",
       " 'NBA_2017_games-march.html',\n",
       " 'NBA_2017_games-may.html',\n",
       " 'NBA_2017_games-november.html',\n",
       " 'NBA_2017_games-october.html',\n",
       " 'NBA_2018_games-april.html',\n",
       " 'NBA_2018_games-december.html',\n",
       " 'NBA_2018_games-february.html',\n",
       " 'NBA_2018_games-january.html',\n",
       " 'NBA_2018_games-june.html',\n",
       " 'NBA_2018_games-march.html',\n",
       " 'NBA_2018_games-may.html',\n",
       " 'NBA_2018_games-november.html',\n",
       " 'NBA_2018_games-october.html',\n",
       " 'NBA_2019_games-april.html',\n",
       " 'NBA_2019_games-december.html',\n",
       " 'NBA_2019_games-february.html',\n",
       " 'NBA_2019_games-january.html',\n",
       " 'NBA_2019_games-june.html',\n",
       " 'NBA_2019_games-march.html',\n",
       " 'NBA_2019_games-may.html',\n",
       " 'NBA_2019_games-november.html',\n",
       " 'NBA_2019_games-october.html',\n",
       " 'NBA_2020_games-august.html',\n",
       " 'NBA_2020_games-december.html',\n",
       " 'NBA_2020_games-february.html',\n",
       " 'NBA_2020_games-january.html',\n",
       " 'NBA_2020_games-july.html',\n",
       " 'NBA_2020_games-march.html',\n",
       " 'NBA_2020_games-november.html',\n",
       " 'NBA_2020_games-october-2019.html',\n",
       " 'NBA_2020_games-october-2020.html',\n",
       " 'NBA_2020_games-september.html',\n",
       " 'NBA_2021_games-april.html',\n",
       " 'NBA_2021_games-december.html',\n",
       " 'NBA_2021_games-february.html',\n",
       " 'NBA_2021_games-january.html',\n",
       " 'NBA_2021_games-july.html',\n",
       " 'NBA_2021_games-june.html',\n",
       " 'NBA_2021_games-march.html',\n",
       " 'NBA_2021_games-may.html',\n",
       " 'NBA_2022_games-april.html',\n",
       " 'NBA_2022_games-december.html',\n",
       " 'NBA_2022_games-february.html',\n",
       " 'NBA_2022_games-january.html',\n",
       " 'NBA_2022_games-june.html',\n",
       " 'NBA_2022_games-march.html',\n",
       " 'NBA_2022_games-may.html',\n",
       " 'NBA_2022_games-november.html',\n",
       " 'NBA_2022_games-october.html',\n",
       " 'NBA_2023_games-april.html',\n",
       " 'NBA_2023_games-december.html',\n",
       " 'NBA_2023_games-february.html',\n",
       " 'NBA_2023_games-january.html',\n",
       " 'NBA_2023_games-march.html',\n",
       " 'NBA_2023_games-may.html',\n",
       " 'NBA_2023_games-november.html',\n",
       " 'NBA_2023_games-october.html']"
      ]
     },
     "execution_count": 18,
     "metadata": {},
     "output_type": "execute_result"
    }
   ],
   "source": [
    "standings_files"
   ]
  },
  {
   "cell_type": "code",
   "execution_count": 19,
   "metadata": {},
   "outputs": [],
   "source": [
    "async def scrape_game(standings_file):\n",
    "    with open(standings_file, 'r', encoding='utf-8') as f:\n",
    "        html = f.read()\n",
    "\n",
    "    soup = BeautifulSoup(html, 'html.parser')\n",
    "    links = soup.find_all(\"a\")\n",
    "    hrefs = [l.get('href') for l in links]\n",
    "    box_scores = [f\"https://www.basketball-reference.com{l}\" for l in hrefs if l and \"boxscore\" in l and '.html' in l]\n",
    "\n",
    "    for url in box_scores:\n",
    "        save_path = os.path.join(SCORES_DIR, url.split(\"/\")[-1])\n",
    "        if os.path.exists(save_path):\n",
    "            continue\n",
    "\n",
    "        html = await get_html(url, \"#content\")\n",
    "        if not html:\n",
    "            continue\n",
    "        with open(save_path, \"w+\", encoding='utf-8') as f:\n",
    "            f.write(html)"
   ]
  },
  {
   "cell_type": "code",
   "execution_count": 20,
   "metadata": {},
   "outputs": [
    {
     "name": "stdout",
     "output_type": "stream",
     "text": [
      "Mavericks vs Heat, April 1, 2023 | Basketball-Reference.com\n",
      "Clippers vs Pelicans, April 1, 2023 | Basketball-Reference.com\n",
      "Raptors vs Hornets, April 2, 2023 | Basketball-Reference.com\n",
      "Jazz vs Nets, April 2, 2023 | Basketball-Reference.com\n",
      "Grizzlies vs Bulls, April 2, 2023 | Basketball-Reference.com\n",
      "Trail Blazers vs Timberwolves, April 2, 2023 | Basketball-Reference.com\n",
      "Mavericks vs Hawks, April 2, 2023 | Basketball-Reference.com\n",
      "Wizards vs Knicks, April 2, 2023 | Basketball-Reference.com\n",
      "Pistons vs Magic, April 2, 2023 | Basketball-Reference.com\n",
      "Spurs vs Kings, April 2, 2023 | Basketball-Reference.com\n",
      "Lakers vs Rockets, April 2, 2023 | Basketball-Reference.com\n",
      "Suns vs Thunder, April 2, 2023 | Basketball-Reference.com\n",
      "Pacers vs Cavaliers, April 2, 2023 | Basketball-Reference.com\n",
      "76ers vs Bucks, April 2, 2023 | Basketball-Reference.com\n",
      "Warriors vs Nuggets, April 2, 2023 | Basketball-Reference.com\n",
      "Raptors vs Hornets, April 4, 2023 | Basketball-Reference.com\n",
      "Heat vs Pistons, April 4, 2023 | Basketball-Reference.com\n",
      "Cavaliers vs Magic, April 4, 2023 | Basketball-Reference.com\n",
      "Bucks vs Wizards, April 4, 2023 | Basketball-Reference.com\n",
      "Timberwolves vs Nets, April 4, 2023 | Basketball-Reference.com\n",
      "Hawks vs Bulls, April 4, 2023 | Basketball-Reference.com\n",
      "Nuggets vs Rockets, April 4, 2023 | Basketball-Reference.com\n",
      "Trail Blazers vs Grizzlies, April 4, 2023 | Basketball-Reference.com\n",
      "Kings vs Pelicans, April 4, 2023 | Basketball-Reference.com\n",
      "Celtics vs 76ers, April 4, 2023 | Basketball-Reference.com\n",
      "Lakers vs Jazz, April 4, 2023 | Basketball-Reference.com\n",
      "Thunder vs Warriors, April 4, 2023 | Basketball-Reference.com\n",
      "Spurs vs Suns, April 4, 2023 | Basketball-Reference.com\n",
      "Nets vs Pistons, April 5, 2023 | Basketball-Reference.com\n",
      "Knicks vs Pacers, April 5, 2023 | Basketball-Reference.com\n",
      "Wizards vs Hawks, April 5, 2023 | Basketball-Reference.com\n",
      "Raptors vs Celtics, April 5, 2023 | Basketball-Reference.com\n",
      "Bulls vs Bucks, April 5, 2023 | Basketball-Reference.com\n",
      "Grizzlies vs Pelicans, April 5, 2023 | Basketball-Reference.com\n",
      "Kings vs Mavericks, April 5, 2023 | Basketball-Reference.com\n",
      "Lakers vs Clippers, April 5, 2023 | Basketball-Reference.com\n",
      "Cavaliers vs Magic, April 6, 2023 | Basketball-Reference.com\n",
      "Heat vs 76ers, April 6, 2023 | Basketball-Reference.com\n",
      "Trail Blazers vs Spurs, April 6, 2023 | Basketball-Reference.com\n",
      "Thunder vs Jazz, April 6, 2023 | Basketball-Reference.com\n",
      "Nuggets vs Suns, April 6, 2023 | Basketball-Reference.com\n",
      "Rockets vs Hornets, April 7, 2023 | Basketball-Reference.com\n",
      "Pistons vs Pacers, April 7, 2023 | Basketball-Reference.com\n",
      "Heat vs Wizards, April 7, 2023 | Basketball-Reference.com\n",
      "76ers vs Hawks, April 7, 2023 | Basketball-Reference.com\n",
      "Raptors vs Celtics, April 7, 2023 | Basketball-Reference.com\n",
      "Magic vs Nets, April 7, 2023 | Basketball-Reference.com\n",
      "Grizzlies vs Bucks, April 7, 2023 | Basketball-Reference.com\n",
      "Knicks vs Pelicans, April 7, 2023 | Basketball-Reference.com\n",
      "Bulls vs Mavericks, April 7, 2023 | Basketball-Reference.com\n",
      "Warriors vs Kings, April 7, 2023 | Basketball-Reference.com\n",
      "Suns vs Lakers, April 7, 2023 | Basketball-Reference.com\n",
      "Nuggets vs Jazz, April 8, 2023 | Basketball-Reference.com\n",
      "Trail Blazers vs Clippers, April 8, 2023 | Basketball-Reference.com\n",
      "Timberwolves vs Spurs, April 8, 2023 | Basketball-Reference.com\n",
      "Hawks vs Celtics, April 9, 2023 | Basketball-Reference.com\n",
      "76ers vs Nets, April 9, 2023 | Basketball-Reference.com\n",
      "Pistons vs Bulls, April 9, 2023 | Basketball-Reference.com\n",
      "Hornets vs Cavaliers, April 9, 2023 | Basketball-Reference.com\n",
      "Magic vs Heat, April 9, 2023 | Basketball-Reference.com\n",
      "Pacers vs Knicks, April 9, 2023 | Basketball-Reference.com\n",
      "Bucks vs Raptors, April 9, 2023 | Basketball-Reference.com\n",
      "Rockets vs Wizards, April 9, 2023 | Basketball-Reference.com\n",
      "Spurs vs Mavericks, April 9, 2023 | Basketball-Reference.com\n",
      "Kings vs Nuggets, April 9, 2023 | Basketball-Reference.com\n",
      "Jazz vs Lakers, April 9, 2023 | Basketball-Reference.com\n",
      "Pelicans vs Timberwolves, April 9, 2023 | Basketball-Reference.com\n",
      "Grizzlies vs Thunder, April 9, 2023 | Basketball-Reference.com\n",
      "Clippers vs Suns, April 9, 2023 | Basketball-Reference.com\n",
      "Warriors vs Trail Blazers, April 9, 2023 | Basketball-Reference.com\n",
      "Play-In Game: Hawks vs Heat, April 11, 2023 | Basketball-Reference.com\n",
      "Play-In Game: Timberwolves vs Lakers, April 11, 2023 | Basketball-Reference.com\n",
      "Play-In Game: Bulls vs Raptors, April 12, 2023 | Basketball-Reference.com\n",
      "Play-In Game: Thunder vs Pelicans, April 12, 2023 | Basketball-Reference.com\n",
      "Play-In Game: Bulls vs Heat, April 14, 2023 | Basketball-Reference.com\n",
      "Play-In Game: Thunder vs Timberwolves, April 14, 2023 | Basketball-Reference.com\n",
      "2023 NBA Eastern Conference First Round Game 1: Nets vs 76ers, April 15, 2023 | Basketball-Reference.com\n",
      "2023 NBA Eastern Conference First Round Game 1: Hawks vs Celtics, April 15, 2023 | Basketball-Reference.com\n",
      "2023 NBA Eastern Conference First Round Game 1: Knicks vs Cavaliers, April 15, 2023 | Basketball-Reference.com\n",
      "2023 NBA Western Conference First Round Game 1: Warriors vs Kings, April 15, 2023 | Basketball-Reference.com\n",
      "2023 NBA Western Conference First Round Game 1: Lakers vs Grizzlies, April 16, 2023 | Basketball-Reference.com\n",
      "2023 NBA Eastern Conference First Round Game 1: Heat vs Bucks, April 16, 2023 | Basketball-Reference.com\n",
      "2023 NBA Western Conference First Round Game 1: Clippers vs Suns, April 16, 2023 | Basketball-Reference.com\n",
      "2023 NBA Western Conference First Round Game 1: Timberwolves vs Nuggets, April 16, 2023 | Basketball-Reference.com\n",
      "2023 NBA Eastern Conference First Round Game 2: Nets vs 76ers, April 17, 2023 | Basketball-Reference.com\n",
      "2023 NBA Western Conference First Round Game 2: Warriors vs Kings, April 17, 2023 | Basketball-Reference.com\n",
      "2023 NBA Eastern Conference First Round Game 2: Hawks vs Celtics, April 18, 2023 | Basketball-Reference.com\n",
      "2023 NBA Eastern Conference First Round Game 2: Knicks vs Cavaliers, April 18, 2023 | Basketball-Reference.com\n",
      "2023 NBA Western Conference First Round Game 2: Clippers vs Suns, April 18, 2023 | Basketball-Reference.com\n",
      "2023 NBA Western Conference First Round Game 2: Lakers vs Grizzlies, April 19, 2023 | Basketball-Reference.com\n",
      "2023 NBA Eastern Conference First Round Game 2: Heat vs Bucks, April 19, 2023 | Basketball-Reference.com\n",
      "2023 NBA Western Conference First Round Game 2: Timberwolves vs Nuggets, April 19, 2023 | Basketball-Reference.com\n",
      "2023 NBA Eastern Conference First Round Game 3: 76ers vs Nets, April 20, 2023 | Basketball-Reference.com\n",
      "2023 NBA Western Conference First Round Game 3: Kings vs Warriors, April 20, 2023 | Basketball-Reference.com\n",
      "2023 NBA Western Conference First Round Game 3: Suns vs Clippers, April 20, 2023 | Basketball-Reference.com\n",
      "2023 NBA Eastern Conference First Round Game 3: Celtics vs Hawks, April 21, 2023 | Basketball-Reference.com\n",
      "2023 NBA Eastern Conference First Round Game 3: Cavaliers vs Knicks, April 21, 2023 | Basketball-Reference.com\n",
      "2023 NBA Western Conference First Round Game 3: Nuggets vs Timberwolves, April 21, 2023 | Basketball-Reference.com\n",
      "2023 NBA Eastern Conference First Round Game 4: 76ers vs Nets, April 22, 2023 | Basketball-Reference.com\n",
      "2023 NBA Western Conference First Round Game 4: Suns vs Clippers, April 22, 2023 | Basketball-Reference.com\n",
      "2023 NBA Eastern Conference First Round Game 3: Bucks vs Heat, April 22, 2023 | Basketball-Reference.com\n",
      "2023 NBA Western Conference First Round Game 3: Grizzlies vs Lakers, April 22, 2023 | Basketball-Reference.com\n"
     ]
    }
   ],
   "source": [
    "for season in SEASONS:\n",
    "    files = [s for s in standings_files if str(season) in s]\n",
    "\n",
    "    for f in files:\n",
    "        filepath = os.path.join(STANDINGS_DIR, f)\n",
    "\n",
    "        await scrape_game(filepath)"
   ]
  }
 ],
 "metadata": {
  "kernelspec": {
   "display_name": "Python 3",
   "language": "python",
   "name": "python3"
  },
  "language_info": {
   "codemirror_mode": {
    "name": "ipython",
    "version": 3
   },
   "file_extension": ".py",
   "mimetype": "text/x-python",
   "name": "python",
   "nbconvert_exporter": "python",
   "pygments_lexer": "ipython3",
   "version": "3.10.9"
  },
  "orig_nbformat": 4
 },
 "nbformat": 4,
 "nbformat_minor": 2
}
